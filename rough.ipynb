{
 "cells": [
  {
   "cell_type": "code",
   "execution_count": 1,
   "id": "0c54ae55",
   "metadata": {},
   "outputs": [
    {
     "name": "stdout",
     "output_type": "stream",
     "text": [
      "Enter 5 numbers seperated by comma:1,2,3,4,5\n"
     ]
    }
   ],
   "source": [
    "n=input(\"Enter 5 numbers seperated by comma:\")\n",
    "n=list(n)"
   ]
  },
  {
   "cell_type": "code",
   "execution_count": 5,
   "id": "261a3925",
   "metadata": {},
   "outputs": [
    {
     "name": "stdout",
     "output_type": "stream",
     "text": [
      "enter 3 color seperated by comm:red,blue,yellow\n",
      "enter 3 color seperated by comma:green,blue,yellow\n",
      "Output {'green'}\n"
     ]
    }
   ],
   "source": [
    "p=set(input(\"enter 3 color seperated by comm:\").split(','))\n",
    "q=set(input(\"enter 3 color seperated by comma:\").split(','))\n",
    "c=q-p\n",
    "print(\"Output\",c)"
   ]
  },
  {
   "cell_type": "code",
   "execution_count": 2,
   "id": "3e4f8dda",
   "metadata": {},
   "outputs": [
    {
     "name": "stdout",
     "output_type": "stream",
     "text": [
      "enter 3 student names seperated by comma:hadeela,ajey,frina\n",
      "Dictionary {1: 'hadeela', 2: 'ajey', 3: 'frina'}\n"
     ]
    }
   ],
   "source": [
    "p=input(\"enter 3 student names seperated by comma:\").split(',')\n",
    "pd={1:p[0],2:p[1],3:p[2]}\n",
    "print(\"Dictionary\",pd)"
   ]
  },
  {
   "cell_type": "code",
   "execution_count": 6,
   "id": "099ef45b",
   "metadata": {},
   "outputs": [
    {
     "name": "stdout",
     "output_type": "stream",
     "text": [
      "enter 3 color seperated by comm:red,blue,green\n",
      "{'green', 'red', 'blue'}\n"
     ]
    }
   ],
   "source": [
    "p=set(input(\"enter 3 color seperated by comm:\").split(','))\n",
    "print(p)"
   ]
  },
  {
   "cell_type": "code",
   "execution_count": 1,
   "id": "9538f301",
   "metadata": {},
   "outputs": [
    {
     "name": "stdout",
     "output_type": "stream",
     "text": [
      "Enter 3 roll number seperated by comma:11,22,33\n",
      "enter 3 names seperated by comma:hadeela,frina,soja\n",
      "dict {'11': 'hadeela', '22': 'frina', '33': 'soja'}\n"
     ]
    }
   ],
   "source": [
    "roll=input(\"Enter 3 roll number seperated by comma:\").split(',')\n",
    "name=input(\"enter 3 names seperated by comma:\").split(',')\n",
    "d={roll[0]:name[0],roll[1]:name[1],roll[2]:name[2]}\n",
    "print(\"dict\",d)"
   ]
  },
  {
   "cell_type": "code",
   "execution_count": 3,
   "id": "94a6c5e6",
   "metadata": {},
   "outputs": [
    {
     "name": "stdout",
     "output_type": "stream",
     "text": [
      "Enter 3 roll number seperated by comma:1,2,3\n",
      "enter 3 names seperated by comma:hadeela,frina,jahana\n",
      "dict {'1': 'hadeela', '2': 'frina', '3': 'jahana'}\n"
     ]
    },
    {
     "ename": "AttributeError",
     "evalue": "'dict' object has no attribute 'item'",
     "output_type": "error",
     "traceback": [
      "\u001b[0;31m---------------------------------------------------------------------------\u001b[0m",
      "\u001b[0;31mAttributeError\u001b[0m                            Traceback (most recent call last)",
      "Cell \u001b[0;32mIn[3], line 5\u001b[0m\n\u001b[1;32m      3\u001b[0m d\u001b[38;5;241m=\u001b[39m{roll[\u001b[38;5;241m0\u001b[39m]:name[\u001b[38;5;241m0\u001b[39m],roll[\u001b[38;5;241m1\u001b[39m]:name[\u001b[38;5;241m1\u001b[39m],roll[\u001b[38;5;241m2\u001b[39m]:name[\u001b[38;5;241m2\u001b[39m]}\n\u001b[1;32m      4\u001b[0m \u001b[38;5;28mprint\u001b[39m(\u001b[38;5;124m\"\u001b[39m\u001b[38;5;124mdict\u001b[39m\u001b[38;5;124m\"\u001b[39m,d)\n\u001b[0;32m----> 5\u001b[0m sort\u001b[38;5;241m=\u001b[39m\u001b[38;5;28mdict\u001b[39m(\u001b[38;5;28msorted\u001b[39m(d\u001b[38;5;241m.\u001b[39mitem()))\n\u001b[1;32m      6\u001b[0m \u001b[38;5;28mprint\u001b[39m(\u001b[38;5;124m\"\u001b[39m\u001b[38;5;124mSorted dict\u001b[39m\u001b[38;5;124m\"\u001b[39m,sort)\n",
      "\u001b[0;31mAttributeError\u001b[0m: 'dict' object has no attribute 'item'"
     ]
    }
   ],
   "source": [
    "roll=input(\"Enter 3 roll number seperated by comma:\").split(',')\n",
    "name=input(\"enter 3 names seperated by comma:\").split(',')\n",
    "d={roll[0]:name[0],roll[1]:name[1],roll[2]:name[2]}\n",
    "print(\"dict\",d)\n",
    "sort=dict(sorted(d.item()))\n",
    "print(\"Sorted dict\",sort)\n"
   ]
  },
  {
   "cell_type": "code",
   "execution_count": null,
   "id": "4a0bd52b",
   "metadata": {},
   "outputs": [],
   "source": []
  }
 ],
 "metadata": {
  "kernelspec": {
   "display_name": "Python 3 (ipykernel)",
   "language": "python",
   "name": "python3"
  },
  "language_info": {
   "codemirror_mode": {
    "name": "ipython",
    "version": 3
   },
   "file_extension": ".py",
   "mimetype": "text/x-python",
   "name": "python",
   "nbconvert_exporter": "python",
   "pygments_lexer": "ipython3",
   "version": "3.11.4"
  }
 },
 "nbformat": 4,
 "nbformat_minor": 5
}
